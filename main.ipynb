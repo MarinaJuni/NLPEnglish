{
 "cells": [
  {
   "cell_type": "markdown",
   "metadata": {},
   "source": [
    "# Project NLP G1"
   ]
  },
  {
   "cell_type": "markdown",
   "metadata": {},
   "source": [
    "This project contains 2 datasets:\n",
    "- Label 0: Real News\n",
    "- Label 1: Fake News"
   ]
  },
  {
   "cell_type": "markdown",
   "metadata": {},
   "source": [
    "Importing Libraries"
   ]
  },
  {
   "cell_type": "code",
   "execution_count": 23,
   "metadata": {},
   "outputs": [],
   "source": [
    "import pandas as pd\n",
    "import numpy as np\n",
    "import nltk\n",
    "from nltk.corpus import twitter_samples    # sample Twitter dataset from NLTK\n",
    "import matplotlib.pyplot as plt            # library for visualization\n",
    "import random                              # pseudo-random number generato"
   ]
  },
  {
   "cell_type": "markdown",
   "metadata": {},
   "source": [
    "Load the DataSet"
   ]
  },
  {
   "cell_type": "code",
   "execution_count": 24,
   "metadata": {},
   "outputs": [
    {
     "name": "stdout",
     "output_type": "stream",
     "text": [
      "object\n",
      "0    donald trump sends out embarrassing new year‚s...\n",
      "1    drunk bragging trump staffer started russian c...\n",
      "2    sheriff david clarke becomes an internet joke ...\n",
      "3    trump is so obsessed he even has obama‚s name ...\n",
      "4    pope francis just called out donald trump duri...\n",
      "Name: Sentence, dtype: object\n"
     ]
    }
   ],
   "source": [
    "file_path = 'training_data_lowercase.csv'\n",
    "dataset = pd.read_csv(file_path, delimiter='\\t', header=None, names=[\"Tag\", \"Sentence\"])\n",
    "\n",
    "print(dataset['Sentence'].dtype)\n",
    "print(dataset['Sentence'].head())\n"
   ]
  },
  {
   "cell_type": "markdown",
   "metadata": {},
   "source": [
    "## Data Exploration"
   ]
  },
  {
   "cell_type": "markdown",
   "metadata": {},
   "source": [
    "Understanding the Structure of the Dataset"
   ]
  },
  {
   "cell_type": "code",
   "execution_count": 25,
   "metadata": {},
   "outputs": [
    {
     "name": "stdout",
     "output_type": "stream",
     "text": [
      "<class 'pandas.core.frame.DataFrame'>\n",
      "RangeIndex: 34152 entries, 0 to 34151\n",
      "Data columns (total 2 columns):\n",
      " #   Column    Non-Null Count  Dtype \n",
      "---  ------    --------------  ----- \n",
      " 0   Tag       34152 non-null  int64 \n",
      " 1   Sentence  34152 non-null  object\n",
      "dtypes: int64(1), object(1)\n",
      "memory usage: 533.8+ KB\n"
     ]
    },
    {
     "data": {
      "text/html": [
       "<div>\n",
       "<style scoped>\n",
       "    .dataframe tbody tr th:only-of-type {\n",
       "        vertical-align: middle;\n",
       "    }\n",
       "\n",
       "    .dataframe tbody tr th {\n",
       "        vertical-align: top;\n",
       "    }\n",
       "\n",
       "    .dataframe thead th {\n",
       "        text-align: right;\n",
       "    }\n",
       "</style>\n",
       "<table border=\"1\" class=\"dataframe\">\n",
       "  <thead>\n",
       "    <tr style=\"text-align: right;\">\n",
       "      <th></th>\n",
       "      <th>Tag</th>\n",
       "      <th>Sentence</th>\n",
       "    </tr>\n",
       "  </thead>\n",
       "  <tbody>\n",
       "    <tr>\n",
       "      <th>0</th>\n",
       "      <td>0</td>\n",
       "      <td>donald trump sends out embarrassing new year‚s...</td>\n",
       "    </tr>\n",
       "    <tr>\n",
       "      <th>1</th>\n",
       "      <td>0</td>\n",
       "      <td>drunk bragging trump staffer started russian c...</td>\n",
       "    </tr>\n",
       "    <tr>\n",
       "      <th>2</th>\n",
       "      <td>0</td>\n",
       "      <td>sheriff david clarke becomes an internet joke ...</td>\n",
       "    </tr>\n",
       "    <tr>\n",
       "      <th>3</th>\n",
       "      <td>0</td>\n",
       "      <td>trump is so obsessed he even has obama‚s name ...</td>\n",
       "    </tr>\n",
       "    <tr>\n",
       "      <th>4</th>\n",
       "      <td>0</td>\n",
       "      <td>pope francis just called out donald trump duri...</td>\n",
       "    </tr>\n",
       "  </tbody>\n",
       "</table>\n",
       "</div>"
      ],
      "text/plain": [
       "   Tag                                           Sentence\n",
       "0    0  donald trump sends out embarrassing new year‚s...\n",
       "1    0  drunk bragging trump staffer started russian c...\n",
       "2    0  sheriff david clarke becomes an internet joke ...\n",
       "3    0  trump is so obsessed he even has obama‚s name ...\n",
       "4    0  pope francis just called out donald trump duri..."
      ]
     },
     "execution_count": 25,
     "metadata": {},
     "output_type": "execute_result"
    }
   ],
   "source": [
    "dataset.info()\n",
    "dataset.head()"
   ]
  },
  {
   "cell_type": "markdown",
   "metadata": {},
   "source": [
    "3) Checking the Class distribution\n",
    "###### Here we are just counting how many sentences are translated by the machine and how many are translated by a professional"
   ]
  },
  {
   "cell_type": "code",
   "execution_count": 26,
   "metadata": {},
   "outputs": [
    {
     "name": "stdout",
     "output_type": "stream",
     "text": [
      "Tag\n",
      "0    17572\n",
      "1    16580\n",
      "Name: count, dtype: int64\n"
     ]
    }
   ],
   "source": [
    "class_distribution = dataset['Tag'].value_counts()\n",
    "print(class_distribution)"
   ]
  },
  {
   "cell_type": "markdown",
   "metadata": {},
   "source": [
    "4) Analyzing Sentence Lenght\n",
    "- We add a column to the dataset that calculates the lenght of each sentence\n",
    "- we look at the summary statisticss for sentence lenght"
   ]
  },
  {
   "cell_type": "code",
   "execution_count": 27,
   "metadata": {},
   "outputs": [],
   "source": [
    "dataset['Sentence_Length'] = dataset['Sentence'].apply(len)\n"
   ]
  },
  {
   "cell_type": "code",
   "execution_count": 28,
   "metadata": {},
   "outputs": [
    {
     "name": "stdout",
     "output_type": "stream",
     "text": [
      "count    34152.000000\n",
      "mean        74.680839\n",
      "std         23.460862\n",
      "min          2.000000\n",
      "25%         61.000000\n",
      "50%         70.000000\n",
      "75%         85.000000\n",
      "max        279.000000\n",
      "Name: Sentence_Length, dtype: float64\n"
     ]
    }
   ],
   "source": [
    "sentence_length_stats = dataset['Sentence_Length'].describe()\n",
    "print(sentence_length_stats)"
   ]
  },
  {
   "cell_type": "markdown",
   "metadata": {},
   "source": [
    "5) Visualizing the Data"
   ]
  },
  {
   "cell_type": "code",
   "execution_count": 29,
   "metadata": {},
   "outputs": [
    {
     "data": {
      "image/png": "[encoded data removed]",
      "text/plain": [
       "<Figure size 640x480 with 1 Axes>"
      ]
     },
     "metadata": {},
     "output_type": "display_data"
    },
    {
     "data": {
      "image/png": "[encoded data removed]",
      "text/plain": [
       "<Figure size 640x480 with 1 Axes>"
      ]
     },
     "metadata": {},
     "output_type": "display_data"
    }
   ],
   "source": [
    "import matplotlib.pyplot as plt\n",
    "\n",
    "# Class Distribution\n",
    "dataset['Tag'].value_counts().plot(kind='bar', title=\"Class Distribution\", color=['lightblue', 'lightgreen'])\n",
    "plt.xlabel(\"Class\")\n",
    "plt.ylabel(\"Count\")\n",
    "plt.show()\n",
    "\n",
    "# Sentence Length Distribution\n",
    "dataset['Sentence_Length'].plot(kind='hist', bins=50, title=\"Sentence Length Distribution\", color='purple')\n",
    "plt.xlabel(\"Sentence Length\")\n",
    "plt.ylabel(\"Frequency\")\n",
    "plt.show()"
   ]
  },
  {
   "cell_type": "markdown",
   "metadata": {},
   "source": [
    "## Text Processing"
   ]
  },
  {
   "cell_type": "code",
   "execution_count": 30,
   "metadata": {},
   "outputs": [
    {
     "name": "stderr",
     "output_type": "stream",
     "text": [
      "[nltk_data] Downloading package punkt to /root/nltk_data...\n",
      "[nltk_data]   Package punkt is already up-to-date!\n",
      "[nltk_data] Downloading package wordnet to /root/nltk_data...\n",
      "[nltk_data]   Package wordnet is already up-to-date!\n",
      "[nltk_data] Downloading package stopwords to /root/nltk_data...\n",
      "[nltk_data]   Package stopwords is already up-to-date!\n"
     ]
    },
    {
     "data": {
      "text/plain": [
       "True"
      ]
     },
     "execution_count": 30,
     "metadata": {},
     "output_type": "execute_result"
    }
   ],
   "source": [
    "import nltk\n",
    "from nltk.corpus import stopwords\n",
    "from nltk.tokenize import word_tokenize\n",
    "from nltk.stem import WordNetLemmatizer\n",
    "import re\n",
    "\n",
    "nltk.download('punkt')\n",
    "nltk.download('wordnet')\n",
    "nltk.download('stopwords')"
   ]
  },
  {
   "cell_type": "markdown",
   "metadata": {},
   "source": [
    "1) Tokenization and Normalization (removing punctuation)"
   ]
  },
  {
   "cell_type": "code",
   "execution_count": 31,
   "metadata": {},
   "outputs": [],
   "source": [
    "\n",
    "# Step 1: Tokenization and Normalization (lowercasing and removing punctuation)\n",
    "def preprocess_text(text):\n",
    "\n",
    "    # Remove punctuation\n",
    "    text = re.sub(r'[^\\w\\s]', '', text)\n",
    "    # Tokenize\n",
    "    tokens = word_tokenize(text)\n",
    "    return tokens\n",
    "\n",
    "\n"
   ]
  },
  {
   "cell_type": "markdown",
   "metadata": {},
   "source": [
    "2) Applying the Preprocessing Function"
   ]
  },
  {
   "cell_type": "code",
   "execution_count": 32,
   "metadata": {},
   "outputs": [],
   "source": [
    "dataset['Tokenized_Sentence'] = dataset['Sentence'].apply(preprocess_text)\n"
   ]
  },
  {
   "cell_type": "markdown",
   "metadata": {},
   "source": [
    "3) Lemmatization"
   ]
  },
  {
   "cell_type": "code",
   "execution_count": 33,
   "metadata": {},
   "outputs": [
    {
     "data": {
      "text/html": [
       "<div>\n",
       "<style scoped>\n",
       "    .dataframe tbody tr th:only-of-type {\n",
       "        vertical-align: middle;\n",
       "    }\n",
       "\n",
       "    .dataframe tbody tr th {\n",
       "        vertical-align: top;\n",
       "    }\n",
       "\n",
       "    .dataframe thead th {\n",
       "        text-align: right;\n",
       "    }\n",
       "</style>\n",
       "<table border=\"1\" class=\"dataframe\">\n",
       "  <thead>\n",
       "    <tr style=\"text-align: right;\">\n",
       "      <th></th>\n",
       "      <th>Tag</th>\n",
       "      <th>Sentence</th>\n",
       "      <th>Sentence_Length</th>\n",
       "      <th>Tokenized_Sentence</th>\n",
       "      <th>Lemmatized_Sentence</th>\n",
       "    </tr>\n",
       "  </thead>\n",
       "  <tbody>\n",
       "    <tr>\n",
       "      <th>0</th>\n",
       "      <td>0</td>\n",
       "      <td>donald trump sends out embarrassing new year‚s...</td>\n",
       "      <td>78</td>\n",
       "      <td>[donald, trump, sends, out, embarrassing, new,...</td>\n",
       "      <td>[donald, trump, sends, out, embarrassing, new,...</td>\n",
       "    </tr>\n",
       "    <tr>\n",
       "      <th>1</th>\n",
       "      <td>0</td>\n",
       "      <td>drunk bragging trump staffer started russian c...</td>\n",
       "      <td>68</td>\n",
       "      <td>[drunk, bragging, trump, staffer, started, rus...</td>\n",
       "      <td>[drunk, bragging, trump, staffer, started, rus...</td>\n",
       "    </tr>\n",
       "    <tr>\n",
       "      <th>2</th>\n",
       "      <td>0</td>\n",
       "      <td>sheriff david clarke becomes an internet joke ...</td>\n",
       "      <td>89</td>\n",
       "      <td>[sheriff, david, clarke, becomes, an, internet...</td>\n",
       "      <td>[sheriff, david, clarke, becomes, an, internet...</td>\n",
       "    </tr>\n",
       "    <tr>\n",
       "      <th>3</th>\n",
       "      <td>0</td>\n",
       "      <td>trump is so obsessed he even has obama‚s name ...</td>\n",
       "      <td>77</td>\n",
       "      <td>[trump, is, so, obsessed, he, even, has, obama...</td>\n",
       "      <td>[trump, is, so, obsessed, he, even, ha, obamas...</td>\n",
       "    </tr>\n",
       "    <tr>\n",
       "      <th>4</th>\n",
       "      <td>0</td>\n",
       "      <td>pope francis just called out donald trump duri...</td>\n",
       "      <td>69</td>\n",
       "      <td>[pope, francis, just, called, out, donald, tru...</td>\n",
       "      <td>[pope, francis, just, called, out, donald, tru...</td>\n",
       "    </tr>\n",
       "  </tbody>\n",
       "</table>\n",
       "</div>"
      ],
      "text/plain": [
       "   Tag                                           Sentence  Sentence_Length  \\\n",
       "0    0  donald trump sends out embarrassing new year‚s...               78   \n",
       "1    0  drunk bragging trump staffer started russian c...               68   \n",
       "2    0  sheriff david clarke becomes an internet joke ...               89   \n",
       "3    0  trump is so obsessed he even has obama‚s name ...               77   \n",
       "4    0  pope francis just called out donald trump duri...               69   \n",
       "\n",
       "                                  Tokenized_Sentence  \\\n",
       "0  [donald, trump, sends, out, embarrassing, new,...   \n",
       "1  [drunk, bragging, trump, staffer, started, rus...   \n",
       "2  [sheriff, david, clarke, becomes, an, internet...   \n",
       "3  [trump, is, so, obsessed, he, even, has, obama...   \n",
       "4  [pope, francis, just, called, out, donald, tru...   \n",
       "\n",
       "                                 Lemmatized_Sentence  \n",
       "0  [donald, trump, sends, out, embarrassing, new,...  \n",
       "1  [drunk, bragging, trump, staffer, started, rus...  \n",
       "2  [sheriff, david, clarke, becomes, an, internet...  \n",
       "3  [trump, is, so, obsessed, he, even, ha, obamas...  \n",
       "4  [pope, francis, just, called, out, donald, tru...  "
      ]
     },
     "execution_count": 33,
     "metadata": {},
     "output_type": "execute_result"
    }
   ],
   "source": [
    "\n",
    "lemmatizer = WordNetLemmatizer()\n",
    "\n",
    "def lemmatize_tokens(tokens):\n",
    "    return [lemmatizer.lemmatize(token) for token in tokens]\n",
    "\n",
    "dataset['Lemmatized_Sentence'] = dataset['Tokenized_Sentence'].apply(lemmatize_tokens)\n",
    "\n",
    "dataset.head()\n",
    "\n"
   ]
  },
  {
   "cell_type": "code",
   "execution_count": 34,
   "metadata": {},
   "outputs": [
    {
     "data": {
      "text/html": [
       "<div>\n",
       "<style scoped>\n",
       "    .dataframe tbody tr th:only-of-type {\n",
       "        vertical-align: middle;\n",
       "    }\n",
       "\n",
       "    .dataframe tbody tr th {\n",
       "        vertical-align: top;\n",
       "    }\n",
       "\n",
       "    .dataframe thead th {\n",
       "        text-align: right;\n",
       "    }\n",
       "</style>\n",
       "<table border=\"1\" class=\"dataframe\">\n",
       "  <thead>\n",
       "    <tr style=\"text-align: right;\">\n",
       "      <th></th>\n",
       "      <th>Tag</th>\n",
       "      <th>Sentence</th>\n",
       "      <th>Sentence_Length</th>\n",
       "      <th>Tokenized_Sentence</th>\n",
       "      <th>Lemmatized_Sentence</th>\n",
       "    </tr>\n",
       "  </thead>\n",
       "  <tbody>\n",
       "    <tr>\n",
       "      <th>0</th>\n",
       "      <td>0</td>\n",
       "      <td>donald trump sends out embarrassing new year‚s...</td>\n",
       "      <td>78</td>\n",
       "      <td>[donald, trump, sends, out, embarrassing, new,...</td>\n",
       "      <td>[donald, trump, sends, out, embarrassing, new,...</td>\n",
       "    </tr>\n",
       "    <tr>\n",
       "      <th>1</th>\n",
       "      <td>0</td>\n",
       "      <td>drunk bragging trump staffer started russian c...</td>\n",
       "      <td>68</td>\n",
       "      <td>[drunk, bragging, trump, staffer, started, rus...</td>\n",
       "      <td>[drunk, bragging, trump, staffer, started, rus...</td>\n",
       "    </tr>\n",
       "    <tr>\n",
       "      <th>2</th>\n",
       "      <td>0</td>\n",
       "      <td>sheriff david clarke becomes an internet joke ...</td>\n",
       "      <td>89</td>\n",
       "      <td>[sheriff, david, clarke, becomes, an, internet...</td>\n",
       "      <td>[sheriff, david, clarke, becomes, an, internet...</td>\n",
       "    </tr>\n",
       "    <tr>\n",
       "      <th>3</th>\n",
       "      <td>0</td>\n",
       "      <td>trump is so obsessed he even has obama‚s name ...</td>\n",
       "      <td>77</td>\n",
       "      <td>[trump, is, so, obsessed, he, even, has, obama...</td>\n",
       "      <td>[trump, is, so, obsessed, he, even, ha, obamas...</td>\n",
       "    </tr>\n",
       "    <tr>\n",
       "      <th>4</th>\n",
       "      <td>0</td>\n",
       "      <td>pope francis just called out donald trump duri...</td>\n",
       "      <td>69</td>\n",
       "      <td>[pope, francis, just, called, out, donald, tru...</td>\n",
       "      <td>[pope, francis, just, called, out, donald, tru...</td>\n",
       "    </tr>\n",
       "    <tr>\n",
       "      <th>...</th>\n",
       "      <td>...</td>\n",
       "      <td>...</td>\n",
       "      <td>...</td>\n",
       "      <td>...</td>\n",
       "      <td>...</td>\n",
       "    </tr>\n",
       "    <tr>\n",
       "      <th>34147</th>\n",
       "      <td>1</td>\n",
       "      <td>tears in rain as thais gather for late king's ...</td>\n",
       "      <td>53</td>\n",
       "      <td>[tears, in, rain, as, thais, gather, for, late...</td>\n",
       "      <td>[tear, in, rain, a, thai, gather, for, late, k...</td>\n",
       "    </tr>\n",
       "    <tr>\n",
       "      <th>34148</th>\n",
       "      <td>1</td>\n",
       "      <td>pyongyang university needs non-u.s. teachers a...</td>\n",
       "      <td>81</td>\n",
       "      <td>[pyongyang, university, needs, nonus, teachers...</td>\n",
       "      <td>[pyongyang, university, need, nonus, teacher, ...</td>\n",
       "    </tr>\n",
       "    <tr>\n",
       "      <th>34149</th>\n",
       "      <td>1</td>\n",
       "      <td>philippine president duterte to visit japan ah...</td>\n",
       "      <td>73</td>\n",
       "      <td>[philippine, president, duterte, to, visit, ja...</td>\n",
       "      <td>[philippine, president, duterte, to, visit, ja...</td>\n",
       "    </tr>\n",
       "    <tr>\n",
       "      <th>34150</th>\n",
       "      <td>1</td>\n",
       "      <td>japan's abe may have won election\\tbut many do...</td>\n",
       "      <td>63</td>\n",
       "      <td>[japans, abe, may, have, won, election, but, m...</td>\n",
       "      <td>[japan, abe, may, have, won, election, but, ma...</td>\n",
       "    </tr>\n",
       "    <tr>\n",
       "      <th>34151</th>\n",
       "      <td>1</td>\n",
       "      <td>demoralized and divided: inside catalonia's po...</td>\n",
       "      <td>56</td>\n",
       "      <td>[demoralized, and, divided, inside, catalonias...</td>\n",
       "      <td>[demoralized, and, divided, inside, catalonia,...</td>\n",
       "    </tr>\n",
       "  </tbody>\n",
       "</table>\n",
       "<p>34152 rows × 5 columns</p>\n",
       "</div>"
      ],
      "text/plain": [
       "       Tag                                           Sentence  \\\n",
       "0        0  donald trump sends out embarrassing new year‚s...   \n",
       "1        0  drunk bragging trump staffer started russian c...   \n",
       "2        0  sheriff david clarke becomes an internet joke ...   \n",
       "3        0  trump is so obsessed he even has obama‚s name ...   \n",
       "4        0  pope francis just called out donald trump duri...   \n",
       "...    ...                                                ...   \n",
       "34147    1  tears in rain as thais gather for late king's ...   \n",
       "34148    1  pyongyang university needs non-u.s. teachers a...   \n",
       "34149    1  philippine president duterte to visit japan ah...   \n",
       "34150    1  japan's abe may have won election\\tbut many do...   \n",
       "34151    1  demoralized and divided: inside catalonia's po...   \n",
       "\n",
       "       Sentence_Length                                 Tokenized_Sentence  \\\n",
       "0                   78  [donald, trump, sends, out, embarrassing, new,...   \n",
       "1                   68  [drunk, bragging, trump, staffer, started, rus...   \n",
       "2                   89  [sheriff, david, clarke, becomes, an, internet...   \n",
       "3                   77  [trump, is, so, obsessed, he, even, has, obama...   \n",
       "4                   69  [pope, francis, just, called, out, donald, tru...   \n",
       "...                ...                                                ...   \n",
       "34147               53  [tears, in, rain, as, thais, gather, for, late...   \n",
       "34148               81  [pyongyang, university, needs, nonus, teachers...   \n",
       "34149               73  [philippine, president, duterte, to, visit, ja...   \n",
       "34150               63  [japans, abe, may, have, won, election, but, m...   \n",
       "34151               56  [demoralized, and, divided, inside, catalonias...   \n",
       "\n",
       "                                     Lemmatized_Sentence  \n",
       "0      [donald, trump, sends, out, embarrassing, new,...  \n",
       "1      [drunk, bragging, trump, staffer, started, rus...  \n",
       "2      [sheriff, david, clarke, becomes, an, internet...  \n",
       "3      [trump, is, so, obsessed, he, even, ha, obamas...  \n",
       "4      [pope, francis, just, called, out, donald, tru...  \n",
       "...                                                  ...  \n",
       "34147  [tear, in, rain, a, thai, gather, for, late, k...  \n",
       "34148  [pyongyang, university, need, nonus, teacher, ...  \n",
       "34149  [philippine, president, duterte, to, visit, ja...  \n",
       "34150  [japan, abe, may, have, won, election, but, ma...  \n",
       "34151  [demoralized, and, divided, inside, catalonia,...  \n",
       "\n",
       "[34152 rows x 5 columns]"
      ]
     },
     "execution_count": 34,
     "metadata": {},
     "output_type": "execute_result"
    }
   ],
   "source": [
    "dataset"
   ]
  },
  {
   "cell_type": "code",
   "execution_count": 35,
   "metadata": {},
   "outputs": [
    {
     "name": "stdout",
     "output_type": "stream",
     "text": [
      "Requirement already satisfied: textblob in /usr/local/lib/python3.11/dist-packages (0.18.0.post0)\n",
      "Requirement already satisfied: nltk>=3.8 in /usr/local/lib/python3.11/dist-packages (from textblob) (3.8.1)\n",
      "Requirement already satisfied: click in /usr/local/lib/python3.11/dist-packages (from nltk>=3.8->textblob) (8.1.7)\n",
      "Requirement already satisfied: joblib in /usr/local/lib/python3.11/dist-packages (from nltk>=3.8->textblob) (1.3.2)\n",
      "Requirement already satisfied: regex>=2021.8.3 in /usr/local/lib/python3.11/dist-packages (from nltk>=3.8->textblob) (2023.12.25)\n",
      "Requirement already satisfied: tqdm in /usr/local/lib/python3.11/dist-packages (from nltk>=3.8->textblob) (4.66.1)\n",
      "\u001b[33mWARNING: Running pip as the 'root' user can result in broken permissions and conflicting behaviour with the system package manager. It is recommended to use a virtual environment instead: https://pip.pypa.io/warnings/venv\u001b[0m\u001b[33m\n",
      "\u001b[0m"
     ]
    }
   ],
   "source": [
    "!pip install textblob"
   ]
  },
  {
   "cell_type": "markdown",
   "metadata": {},
   "source": [
    "!pip install textstat\n"
   ]
  },
  {
   "cell_type": "markdown",
   "metadata": {},
   "source": [
    "from textblob import TextBlob\n",
    "TextBlob()"
   ]
  },
  {
   "cell_type": "code",
   "execution_count": 36,
   "metadata": {},
   "outputs": [
    {
     "name": "stdout",
     "output_type": "stream",
     "text": [
      "Evaluating models with TF-IDF features...\n",
      "\n",
      "Naive Bayes (TF-IDF) Classifier Accuracy: 0.937637241985068\n",
      "Naive Bayes (TF-IDF) Classification Report:\n",
      "              precision    recall  f1-score   support\n",
      "\n",
      "           0       0.94      0.94      0.94      3529\n",
      "           1       0.94      0.93      0.94      3302\n",
      "\n",
      "    accuracy                           0.94      6831\n",
      "   macro avg       0.94      0.94      0.94      6831\n",
      "weighted avg       0.94      0.94      0.94      6831\n",
      "\n",
      "\n",
      "============================================================\n",
      "\n",
      "Random Forest (TF-IDF) Classifier Accuracy: 0.9352949787732396\n",
      "Random Forest (TF-IDF) Classification Report:\n",
      "              precision    recall  f1-score   support\n",
      "\n",
      "           0       0.94      0.93      0.94      3529\n",
      "           1       0.93      0.94      0.93      3302\n",
      "\n",
      "    accuracy                           0.94      6831\n",
      "   macro avg       0.94      0.94      0.94      6831\n",
      "weighted avg       0.94      0.94      0.94      6831\n",
      "\n",
      "\n",
      "============================================================\n",
      "\n",
      "Evaluating models with CountVectorizer features...\n",
      "\n",
      "Naive Bayes (CountVectorizer) Classifier Accuracy: 0.9408578539013321\n",
      "Naive Bayes (CountVectorizer) Classification Report:\n",
      "              precision    recall  f1-score   support\n",
      "\n",
      "           0       0.94      0.94      0.94      3529\n",
      "           1       0.94      0.94      0.94      3302\n",
      "\n",
      "    accuracy                           0.94      6831\n",
      "   macro avg       0.94      0.94      0.94      6831\n",
      "weighted avg       0.94      0.94      0.94      6831\n",
      "\n",
      "\n",
      "============================================================\n",
      "\n",
      "Random Forest (CountVectorizer) Classifier Accuracy: 0.9313424096032792\n",
      "Random Forest (CountVectorizer) Classification Report:\n",
      "              precision    recall  f1-score   support\n",
      "\n",
      "           0       0.93      0.94      0.93      3529\n",
      "           1       0.94      0.92      0.93      3302\n",
      "\n",
      "    accuracy                           0.93      6831\n",
      "   macro avg       0.93      0.93      0.93      6831\n",
      "weighted avg       0.93      0.93      0.93      6831\n",
      "\n",
      "\n",
      "============================================================\n",
      "\n"
     ]
    }
   ],
   "source": [
    "# Import necessary libraries\n",
    "\n",
    "from sklearn.feature_extraction.text import TfidfVectorizer, CountVectorizer\n",
    "from sklearn.model_selection import train_test_split\n",
    "from sklearn.naive_bayes import MultinomialNB\n",
    "from sklearn.ensemble import RandomForestClassifier\n",
    "from sklearn.metrics import accuracy_score, classification_report\n",
    "from textblob import TextBlob\n",
    "from scipy.sparse import hstack\n",
    "\n",
    "# Apply TextBlob sentiment analysis\n",
    "def get_sentiment(text):\n",
    "    blob = TextBlob(text)\n",
    "    return blob.sentiment.polarity\n",
    "\n",
    "# Create a new 'Sentiment' column based on sentiment polarity\n",
    "dataset['Sentiment'] = dataset['Sentence'].apply(get_sentiment)\n",
    "\n",
    "# Shift sentiment values from [-1, 1] to [0, 2]\n",
    "dataset['Sentiment'] = dataset['Sentiment'] + 1\n",
    "\n",
    "# Step 1: Feature extraction using TfidfVectorizer\n",
    "tfidf_vect = TfidfVectorizer()\n",
    "X_tfidf = tfidf_vect.fit_transform(dataset['Lemmatized_Sentence'].apply(lambda x: ' '.join(x)))\n",
    "\n",
    "# Step 2: Feature extraction using CountVectorizer\n",
    "count_vect = CountVectorizer()\n",
    "X_counts = count_vect.fit_transform(dataset['Lemmatized_Sentence'].apply(lambda x: ' '.join(x)))\n",
    "\n",
    "# Combine TF-IDF features with shifted sentiment polarity for TF-IDF\n",
    "sentiment_feature_tfidf = dataset['Sentiment'].values.reshape(-1, 1)\n",
    "X_combined_tfidf = hstack([X_tfidf, sentiment_feature_tfidf])\n",
    "\n",
    "# Combine CountVectorizer features with shifted sentiment polarity for CountVectorizer\n",
    "sentiment_feature_count = dataset['Sentiment'].values.reshape(-1, 1)\n",
    "X_combined_count = hstack([X_counts, sentiment_feature_count])\n",
    "\n",
    "# Now you can proceed with Naive Bayes and Random Forest using both feature sets\n",
    "\n",
    "# Labels (Target variable)\n",
    "y = dataset['Tag']  # Assuming the column name is 'Tag'\n",
    "\n",
    "# Step 3: Split the data into training and testing sets\n",
    "X_train_tfidf, X_test_tfidf, y_train, y_test = train_test_split(X_combined_tfidf, y, test_size=0.2, random_state=42)\n",
    "X_train_count, X_test_count, y_train, y_test = train_test_split(X_combined_count, y, test_size=0.2, random_state=42)\n",
    "\n",
    "# Step 4: Define both models\n",
    "models_tfidf = {\n",
    "    \"Naive Bayes (TF-IDF)\": MultinomialNB(),\n",
    "    \"Random Forest (TF-IDF)\": RandomForestClassifier(n_estimators=100, random_state=42)\n",
    "}\n",
    "\n",
    "models_count = {\n",
    "    \"Naive Bayes (CountVectorizer)\": MultinomialNB(),\n",
    "    \"Random Forest (CountVectorizer)\": RandomForestClassifier(n_estimators=100, random_state=42)\n",
    "}\n",
    "\n",
    "# Step 5: Train and evaluate both models with TF-IDF\n",
    "print(\"Evaluating models with TF-IDF features...\\n\")\n",
    "for model_name, model in models_tfidf.items():\n",
    "    # Train the model\n",
    "    model.fit(X_train_tfidf, y_train)\n",
    "    \n",
    "    # Make predictions\n",
    "    y_pred = model.predict(X_test_tfidf)\n",
    "    \n",
    "    # Evaluate the model\n",
    "    accuracy = accuracy_score(y_test, y_pred)\n",
    "    print(f\"{model_name} Classifier Accuracy: {accuracy}\")\n",
    "    print(f\"{model_name} Classification Report:\")\n",
    "    print(classification_report(y_test, y_pred))\n",
    "    print(\"\\n\" + \"=\"*60 + \"\\n\")\n",
    "\n",
    "# Step 6: Train and evaluate both models with CountVectorizer\n",
    "print(\"Evaluating models with CountVectorizer features...\\n\")\n",
    "for model_name, model in models_count.items():\n",
    "    # Train the model\n",
    "    model.fit(X_train_count, y_train)\n",
    "    \n",
    "    # Make predictions\n",
    "    y_pred = model.predict(X_test_count)\n",
    "    \n",
    "    # Evaluate the model\n",
    "    accuracy = accuracy_score(y_test, y_pred)\n",
    "    print(f\"{model_name} Classifier Accuracy: {accuracy}\")\n",
    "    print(f\"{model_name} Classification Report:\")\n",
    "    print(classification_report(y_test, y_pred))\n",
    "    print(\"\\n\" + \"=\"*60 + \"\\n\")\n"
   ]
  },
  {
   "cell_type": "markdown",
   "metadata": {},
   "source": [
    "## Plotting results"
   ]
  },
  {
   "cell_type": "code",
   "execution_count": 37,
   "metadata": {},
   "outputs": [
    {
     "name": "stdout",
     "output_type": "stream",
     "text": [
      "Collecting results for models with TF-IDF...\n",
      "\n",
      "Collecting results for models with CountVectorizer...\n",
      "\n"
     ]
    },
    {
     "data": {
      "image/png": "[encoded data removed]",
      "text/plain": [
       "<Figure size 1000x600 with 1 Axes>"
      ]
     },
     "metadata": {},
     "output_type": "display_data"
    }
   ],
   "source": [
    "import matplotlib.pyplot as plt\n",
    "from sklearn.metrics import accuracy_score, f1_score\n",
    "\n",
    "# Initialize lists to store the results\n",
    "model_names_tfidf = []\n",
    "accuracies_tfidf = []\n",
    "f1_scores_tfidf = []\n",
    "\n",
    "model_names_count = []\n",
    "accuracies_count = []\n",
    "f1_scores_count = []\n",
    "\n",
    "# Collect results for models with TF-IDF\n",
    "print(\"Collecting results for models with TF-IDF...\\n\")\n",
    "for model_name, model in models_tfidf.items():\n",
    "    # Make predictions\n",
    "    y_pred = model.predict(X_test_tfidf)\n",
    "    \n",
    "    # Accuracy and F1 Score\n",
    "    accuracy = accuracy_score(y_test, y_pred)\n",
    "    f1 = f1_score(y_test, y_pred, average='macro')\n",
    "    \n",
    "    # Store results\n",
    "    model_names_tfidf.append(model_name)\n",
    "    accuracies_tfidf.append(accuracy)\n",
    "    f1_scores_tfidf.append(f1)\n",
    "\n",
    "# Collect results for models with CountVectorizer\n",
    "print(\"Collecting results for models with CountVectorizer...\\n\")\n",
    "for model_name, model in models_count.items():\n",
    "    # Make predictions\n",
    "    y_pred = model.predict(X_test_count)\n",
    "    \n",
    "    # Accuracy and F1 Score\n",
    "    accuracy = accuracy_score(y_test, y_pred)\n",
    "    f1 = f1_score(y_test, y_pred, average='macro')\n",
    "    \n",
    "    # Store results\n",
    "    model_names_count.append(model_name)\n",
    "    accuracies_count.append(accuracy)\n",
    "    f1_scores_count.append(f1)\n",
    "\n",
    "# Step 3: Plotting results\n",
    "plt.figure(figsize=(10, 6))\n",
    "\n",
    "# Plot TF-IDF accuracies and F1-scores\n",
    "plt.scatter(model_names_tfidf, accuracies_tfidf, marker='o', label='TF-IDF Accuracy', color='blue')\n",
    "plt.scatter(model_names_tfidf, f1_scores_tfidf, marker='x', label='TF-IDF F1 Score', color='green')\n",
    "\n",
    "# Plot CountVectorizer accuracies and F1-scores\n",
    "plt.scatter(model_names_count, accuracies_count, marker='o', label='CountVectorizer Accuracy', color='red')\n",
    "plt.scatter(model_names_count, f1_scores_count, marker='x', label='CountVectorizer F1 Score', color='purple')\n",
    "\n",
    "# Add titles and labels\n",
    "plt.title('Comparison of Model Performance (Accuracy & F1-Score)')\n",
    "plt.xlabel('Models')\n",
    "plt.ylabel('Scores')\n",
    "plt.legend()\n",
    "plt.grid(True)\n",
    "\n",
    "# Show the plot\n",
    "plt.tight_layout()\n",
    "plt.show()\n"
   ]
  }
 ],
 "metadata": {
  "kernelspec": {
   "display_name": "Python 3 (ipykernel)",
   "language": "python",
   "name": "python3"
  },
  "language_info": {
   "codemirror_mode": {
    "name": "ipython",
    "version": 3
   },
   "file_extension": ".py",
   "mimetype": "text/x-python",
   "name": "python",
   "nbconvert_exporter": "python",
   "pygments_lexer": "ipython3",
   "version": "3.11.7"
  }
 },
 "nbformat": 4,
 "nbformat_minor": 2
}
